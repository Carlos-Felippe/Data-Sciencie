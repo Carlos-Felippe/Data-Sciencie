{
  "nbformat": 4,
  "nbformat_minor": 0,
  "metadata": {
    "colab": {
      "name": "aula3.ipynb",
      "provenance": [],
      "collapsed_sections": [],
      "authorship_tag": "ABX9TyO9IqX09clZsfyqKaCOJvPe",
      "include_colab_link": true
    },
    "kernelspec": {
      "name": "python3",
      "display_name": "Python 3"
    }
  },
  "cells": [
    {
      "cell_type": "markdown",
      "metadata": {
        "id": "view-in-github",
        "colab_type": "text"
      },
      "source": [
        "<a href=\"https://colab.research.google.com/github/Carlos-Felippe/Data-Sciencie/blob/main/aula3.ipynb\" target=\"_parent\"><img src=\"https://colab.research.google.com/assets/colab-badge.svg\" alt=\"Open In Colab\"/></a>"
      ]
    },
    {
      "cell_type": "code",
      "metadata": {
        "colab": {
          "base_uri": "https://localhost:8080/",
          "height": 312
        },
        "id": "AwmCri-aTHCu",
        "outputId": "4e2b7be9-a8dc-4ab2-f34c-87ac568ee370"
      },
      "source": [
        "#Gráfico em Barras\n",
        "\n",
        "import matplotlib.pyplot as plt\n",
        "\n",
        "x = [1, 2, 3, 4, 5]\n",
        "y = [2, 3 ,8, 9, 0]\n",
        "\n",
        "titulo= \"Gráfico de Barras\"\n",
        "eixox =\"Eixo x\"\n",
        "eixoy =\"Eixo y\"\n",
        "\n",
        "#lEGENDAS\n",
        "\n",
        "plt.title(titulo, size=28, color=\"b\")\n",
        "plt.xlabel(eixox, size=16)\n",
        "plt.ylabel(eixoy, size=16)\n",
        "\n",
        "\n",
        "\n",
        "\n",
        "plt.bar(x, y)\n",
        "plt.show()"
      ],
      "execution_count": 8,
      "outputs": [
        {
          "output_type": "display_data",
          "data": {
            "image/png": "[encoded data removed]",
            "text/plain": [
              "<Figure size 432x288 with 1 Axes>"
            ]
          },
          "metadata": {
            "tags": [],
            "needs_background": "light"
          }
        }
      ]
    }
  ]
}