{
  "nbformat": 4,
  "nbformat_minor": 0,
  "metadata": {
    "colab": {
      "name": "aula4.ipynb",
      "provenance": [],
      "collapsed_sections": [],
      "authorship_tag": "ABX9TyMYmWA9jKypHZ4WoBF6gveQ",
      "include_colab_link": true
    },
    "kernelspec": {
      "name": "python3",
      "display_name": "Python 3"
    }
  },
  "cells": [
    {
      "cell_type": "markdown",
      "metadata": {
        "id": "view-in-github",
        "colab_type": "text"
      },
      "source": [
        "<a href=\"https://colab.research.google.com/github/Carlos-Felippe/Data-Sciencie/blob/main/aula4.ipynb\" target=\"_parent\"><img src=\"https://colab.research.google.com/assets/colab-badge.svg\" alt=\"Open In Colab\"/></a>"
      ]
    },
    {
      "cell_type": "code",
      "metadata": {
        "colab": {
          "base_uri": "https://localhost:8080/",
          "height": 305
        },
        "id": "5hSGYw53VpDm",
        "outputId": "2ae51fbf-8839-4c54-967e-9d5ccac00315"
      },
      "source": [
        "#Gráfico em Barras comparação de valores\n",
        "\n",
        "import matplotlib.pyplot as plt\n",
        "\n",
        "x1 = [1, 3, 5, 7, 9]\n",
        "y1 = [2, 3 ,8, 9, 0]\n",
        "\n",
        "x2 = [2, 4, 6, 8, 10]\n",
        "y2 = [5, 1 ,3, 7, 4]\n",
        "\n",
        "titulo= \"Gráfico de Comparação\"\n",
        "eixox =\"Eixo x\"\n",
        "eixoy =\"Eixo y\"\n",
        "\n",
        "#lEGENDAS\n",
        "\n",
        "plt.title(titulo, size=18, color=\"b\")\n",
        "plt.xlabel(eixox, size=16)\n",
        "plt.ylabel(eixoy, size=16)\n",
        "\n",
        "plt.bar(x1, y1, label =\"Grupo 1\")\n",
        "plt.bar(x2, y2, label= \"Grupo 2\")\n",
        "plt.legend()\n",
        "plt.show()"
      ],
      "execution_count": null,
      "outputs": [
        {
          "output_type": "display_data",
          "data": {
            "image/png": "[encoded data removed]",
            "text/plain": [
              "<Figure size 432x288 with 1 Axes>"
            ]
          },
          "metadata": {
            "tags": [],
            "needs_background": "light"
          }
        }
      ]
    }
  ]
}